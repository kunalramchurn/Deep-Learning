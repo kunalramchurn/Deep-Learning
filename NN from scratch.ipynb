{
 "cells": [
  {
   "cell_type": "code",
   "execution_count": 2,
   "metadata": {},
   "outputs": [],
   "source": [
    "import numpy as np\n",
    "import math"
   ]
  },
  {
   "cell_type": "code",
   "execution_count": 3,
   "metadata": {},
   "outputs": [
    {
     "name": "stdout",
     "output_type": "stream",
     "text": [
      "35.7\n"
     ]
    }
   ],
   "source": [
    "inputs = [1.2,5.1,2.1]\n",
    "weights= [3.1,2.1,8.7]\n",
    "#each neuron will have its own bias parameter\n",
    "bias=3\n",
    "output = inputs[0] * weights[0]+inputs[1] * weights[1]+inputs[2] * weights[2] + bias \n",
    "print(output)"
   ]
  },
  {
   "cell_type": "code",
   "execution_count": 4,
   "metadata": {},
   "outputs": [
    {
     "name": "stdout",
     "output_type": "stream",
     "text": [
      "4.8\n"
     ]
    }
   ],
   "source": [
    "#output = weight * input + bias\n",
    "inputs= [1,2,3,2.5]\n",
    "weights=[0.2,0.8,-0.5,1]\n",
    "bias=2\n",
    "output = np.dot(weights,inputs) + bias\n",
    "print(output)"
   ]
  },
  {
   "cell_type": "code",
   "execution_count": 5,
   "metadata": {},
   "outputs": [
    {
     "name": "stdout",
     "output_type": "stream",
     "text": [
      "[[0.10758131 1.03983522 0.24462411 0.31821498 0.18851053]\n",
      " [0.         0.70846411 0.00293357 0.44701525 0.36360538]\n",
      " [0.         0.55688422 0.07987797 0.         0.04553042]]\n"
     ]
    }
   ],
   "source": [
    "np.random.seed(0)\n",
    "\n",
    "X = [[1, 2, 3, 2.5],\n",
    "     [2.0, 5.0, -1.0, 2.0],\n",
    "     [-1.5, 2.7, 3.3, -0.8]]\n",
    "#creating a dense layer from scratch\n",
    "class dense_layer:\n",
    "    def __init__(self,n_inputs,n_neurons):\n",
    "        self.weights= 0.10 * np.random.randn(n_inputs,n_neurons)\n",
    "        self.biases= np.zeros((1,n_neurons))\n",
    "    def forward(self,inputs):\n",
    "        self.output =np.dot(inputs,self.weights) + self.biases\n",
    "\n",
    "\n",
    "class Activation_ReLU:\n",
    "    def forward(self,inputs):\n",
    "        self.output = np.maximum(0,inputs)\n",
    "\n",
    "layer1= dense_layer(4,5)\n",
    "layer2=dense_layer(5,2)\n",
    "activation1= Activation_ReLU()\n",
    "\n",
    "layer1.forward(X)\n",
    "activation1.forward(layer1.output)\n",
    "#print(layer1.output)\n",
    "print(activation1.output)"
   ]
  },
  {
   "cell_type": "code",
   "execution_count": 6,
   "metadata": {},
   "outputs": [
    {
     "name": "stdout",
     "output_type": "stream",
     "text": [
      "[121.51041751873483, 3.490342957461841, 10.859062664920513]\n",
      "[0.894380801545151, 0.025690766238054295, 0.0799284322167948]\n",
      "1.0\n"
     ]
    }
   ],
   "source": [
    "#softmax activation\n",
    "\n",
    "layer_outputs = [4.8,1.25,2.385]\n",
    "\n",
    "E= math.e\n",
    "exp_values = []\n",
    "\n",
    "for output in layer_outputs:\n",
    "    exp_values.append(E ** output)\n",
    "print(exp_values)\n",
    "\n",
    "#create normalization\n",
    "norm_base= sum(exp_values)\n",
    "norm_values= []\n",
    "\n",
    "for value in exp_values:\n",
    "    norm_values.append(value / norm_base)\n",
    "\n",
    "print(norm_values)\n",
    "print(sum(norm_values))\n",
    "\n",
    "#method 2\n",
    "\n",
    "exp_values = np.exp(layer_outputs)\n",
    "norm_values = exp_values/ np.sum(exp_values)"
   ]
  }
 ],
 "metadata": {
  "interpreter": {
   "hash": "eed26066e091768b3bbe552df315aec154072782efe392180c83c76eb308ba07"
  },
  "kernelspec": {
   "display_name": "Python 3.8.8 ('base')",
   "language": "python",
   "name": "python3"
  },
  "language_info": {
   "codemirror_mode": {
    "name": "ipython",
    "version": 3
   },
   "file_extension": ".py",
   "mimetype": "text/x-python",
   "name": "python",
   "nbconvert_exporter": "python",
   "pygments_lexer": "ipython3",
   "version": "3.8.8"
  },
  "orig_nbformat": 4
 },
 "nbformat": 4,
 "nbformat_minor": 2
}
